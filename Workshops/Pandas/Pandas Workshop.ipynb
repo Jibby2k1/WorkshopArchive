{
  "cells": [
    {
      "cell_type": "markdown",
      "source": [
        "**Content Produced by UF Data Science and Informatics and UF Signal Processing Society **\n",
        "\n",
        "**Authors: Matheus Kunzler-Maldaner**"
      ],
      "metadata": {}
    },
    {
      "cell_type": "markdown",
      "source": [
        "# Introduction to Data Manipulation with Pandas"
      ],
      "metadata": {}
    },
    {
      "cell_type": "markdown",
      "source": [
        "This workshop will guide you through the fundamentals of using Pandas for data manipulation. We'll explore how to load, view, and manipulate datasets effectively using the Pandas library in Python."
      ],
      "metadata": {}
    },
    {
      "cell_type": "markdown",
      "source": [
        "### Acknowledgements"
      ],
      "metadata": {}
    },
    {
      "cell_type": "markdown",
      "source": [
        "Special thanks to the contributors of the Pandas library and the Python community for making such powerful tools accessible to everyone. Thanks to the UF Data Science and Informatics organization for promoting a platform where peers can share and grow their knowledge and for UF Signal Processing Society for refactoring and streamlining this workshop."
      ],
      "metadata": {}
    },
    {
      "cell_type": "markdown",
      "source": [
        "## Introduction"
      ],
      "metadata": {}
    },
    {
      "cell_type": "markdown",
      "source": [
        "Pandas is a cornerstone library for data manipulation and analysis in Python. It provides powerful data structures that make data cleaning, processing, and analysis fast and easy in Python."
      ],
      "metadata": {}
    },
    {
      "cell_type": "markdown",
      "source": [
        "## 1. Setup and Installation"
      ],
      "metadata": {}
    },
    {
      "cell_type": "code",
      "source": [
        "!pip install pandas"
      ],
      "metadata": {
        "scrolled": true
      },
      "execution_count": null,
      "outputs": []
    },
    {
      "cell_type": "code",
      "source": [
        "import pandas as pd"
      ],
      "metadata": {},
      "execution_count": 2,
      "outputs": []
    },
    {
      "cell_type": "markdown",
      "source": [
        "## 2. Loading Data"
      ],
      "metadata": {}
    },
    {
      "cell_type": "markdown",
      "source": [
        "Loading data is the first step in any data manipulation task. We'll start by loading a CSV file, covering the importance of encoding in data interpretation."
      ],
      "metadata": {}
    },
    {
      "cell_type": "code",
      "source": [
        "# Load a dataset into a Pandas DataFrame\n",
        "# df = pd.read_csv(\"path/to/your/file.csv\", encoding='iso-8859-1')",
        "# df = pd.read_csv("spotify-2023.csv", encoding='iso-8859-1')"
      ],
      "metadata": {},
      "execution_count": 6,
      "outputs": []
    },
    {
      "cell_type": "markdown",
      "source": [
        "## 3. Exploring Data"
      ],
      "metadata": {}
    },
    {
      "cell_type": "markdown",
      "source": [
        "Once data is loaded, it's important to understand its structure and content by exploring rows, columns, and summary statistics."
      ],
      "metadata": {}
    },
    {
      "cell_type": "code",
      "source": [
        "# Display the first and last parts of the dataset, and understand its dimensions\n",
        "# df.head(10)\n",
        "# df.tail(10)\n",
        "# df.shape # Dimensions of the DataFrame\n",
        "# df.columns # List all columns in the DataFrame\n",
        "# df['column_name'].values # Access a column's values"
      ],
      "metadata": {},
      "execution_count": null,
      "outputs": []
    },
    {
      "cell_type": "markdown",
      "source": [
        "## 4. Manipulating Data"
      ],
      "metadata": {}
    },
    {
      "cell_type": "markdown",
      "source": [
        "Data manipulation involves filtering, sorting, and transforming data to extract meaningful information."
      ],
      "metadata": {}
    },
    {
      "cell_type": "code",
      "source": [
        "# Filtering and accessing data\n",
        "# df.loc[df['column_name'] == 'value'] # Find rows where column matches a value\n",
        "# df.iloc[5] # Access the row at index 5\n",
        "# df.sample(5) # Randomly select 5 rows"
      ],
      "metadata": {},
      "execution_count": null,
      "outputs": []
    },
    {
      "cell_type": "markdown",
      "source": [
        "## 5. Conclusion"
      ],
      "metadata": {}
    },
    {
      "cell_type": "markdown",
      "source": [
        "This workshop covered the basics of loading, exploring, and manipulating data using Pandas. These capabilities are fundamental for data analysis and preprocessing tasks in Python."
      ],
      "metadata": {}
    }
  ],
  "metadata": {
    "kernelspec": {
      "display_name": "Python 3",
      "language": "python",
      "name": "python3"
    },
    "language_info": {
      "codemirror_mode": {
        "name": "ipython",
        "version": 3
      },
      "file_extension": ".py",
      "mimetype": "text/x-python",
      "name": "python",
      "nbconvert_exporter": "python",
      "pygments_lexer": "ipython3",
      "version": "3.11.1"
    }
  },
  "nbformat": 4,
  "nbformat_minor": 5
}
